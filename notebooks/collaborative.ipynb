{
 "cells": [
  {
   "cell_type": "markdown",
   "id": "5b212b4b",
   "metadata": {},
   "source": [
    "#### Przygotowania"
   ]
  },
  {
   "cell_type": "markdown",
   "id": "a79bd94d",
   "metadata": {},
   "source": [
    "Import wymaganych bibliotek"
   ]
  },
  {
   "cell_type": "code",
   "execution_count": 191,
   "id": "741ed9e3",
   "metadata": {},
   "outputs": [],
   "source": [
    "import pandas as pd\n",
    "import numpy as np\n",
    "import implicit\n",
    "from implicit.nearest_neighbours import bm25_weight\n",
    "from implicit.evaluation import train_test_split\n",
    "import tqdm\n",
    "from scipy.sparse import csr_matrix\n",
    "from sklearn.metrics.pairwise import cosine_similarity\n",
    "import warnings\n",
    "warnings.filterwarnings('ignore')"
   ]
  },
  {
   "cell_type": "markdown",
   "id": "02edffa7",
   "metadata": {},
   "source": [
    "Wczytanie danych"
   ]
  },
  {
   "cell_type": "code",
   "execution_count": 192,
   "id": "cc27347b",
   "metadata": {},
   "outputs": [],
   "source": [
    "train = pd.read_csv('../data/cf/train_rating.csv')\n",
    "test = pd.read_csv('../data/cf/test_rating.csv')\n",
    "#data = pd.read_csv('../data/ratings.csv')"
   ]
  },
  {
   "cell_type": "markdown",
   "id": "f198e828",
   "metadata": {},
   "source": [
    "#### Przygotowanie macierzy użytkownik-film"
   ]
  },
  {
   "cell_type": "code",
   "execution_count": 194,
   "id": "6b1cebd8",
   "metadata": {},
   "outputs": [],
   "source": [
    "def create_sparse_matrix(df, user_col='userId', item_col='movieId', value_col='rating', rating_to_confidence=False, confidence_alpha=40):\n",
    "    \"\"\"\n",
    "    Create a sparse matrix from the DataFrame.\n",
    "    \"\"\"\n",
    "    users=pd.Categorical(df[user_col])\n",
    "    items=pd.Categorical(df[item_col])\n",
    "\n",
    "    if rating_to_confidence:\n",
    "        # Convert ratings to confidence scores\n",
    "        confidences = 1 + confidence_alpha * df[value_col]\n",
    "        sparse_matrix = csr_matrix((confidences, (users.codes, items.codes)), shape=(len(users.categories), len(items.categories)))\n",
    "    else:\n",
    "        sparse_matrix = csr_matrix((df[value_col], (users.codes, items.codes)), shape=(len(users.categories), len(items.categories)))\n",
    "    \n",
    "    return sparse_matrix\n",
    "\n",
    "train_sparse = create_sparse_matrix(train, rating_to_confidence=True)\n",
    "#data_sparse = create_sparse_matrix(data)\n",
    "#train_sparse, test_sparse = train_test_split(data_sparse, train_percentage=0.8)"
   ]
  },
  {
   "cell_type": "markdown",
   "id": "8f38be70",
   "metadata": {},
   "source": [
    "Wykorzystanie funkcji Okapi BM25 w celu wyważenia wpływu bardzo popularnych filmów, które mogłyby dominować podobieństwa. <br> <br>\n",
    "[Link do opisu działania Okapi BM25](https://en.wikipedia.org/wiki/Okapi_BM25) <br>\n",
    "\n",
    "- Im większe K1, tym mniejsze różnice między popularnymi/rzadkimi\n",
    "- Im większe B, tym silniejsza korekta na długość historii użytkownika"
   ]
  },
  {
   "cell_type": "code",
   "execution_count": 195,
   "id": "92f6338e",
   "metadata": {},
   "outputs": [],
   "source": [
    "train_sparse = bm25_weight(train_sparse, K1=100, B=0.8)"
   ]
  },
  {
   "cell_type": "markdown",
   "id": "ae009988",
   "metadata": {},
   "source": [
    "Przydzielenie każdemu filmowi i użytkownikowi indeksu w tablicy"
   ]
  },
  {
   "cell_type": "code",
   "execution_count": 196,
   "id": "0c890657",
   "metadata": {},
   "outputs": [],
   "source": [
    "user_id__to_index = {user_ind: i for i, user_ind in enumerate(pd.Categorical(train.userId).categories)}\n",
    "item_id__to_index = {item_ind: i for i, item_ind in enumerate(pd.Categorical(train.movieId).categories)}\n",
    "index__toitem_id = {i: item_ind for i, item_ind in enumerate(pd.Categorical(train.movieId).categories)}\n",
    "index__touser_id = {i: user_ind for i, user_ind in enumerate(pd.Categorical(train.userId).categories)}"
   ]
  },
  {
   "cell_type": "markdown",
   "id": "d8acf9fc",
   "metadata": {},
   "source": [
    "#### Obliczenie podobieństw filmów z zapamiętaniem maksymalnie k najbliższych sąsiadów"
   ]
  },
  {
   "cell_type": "code",
   "execution_count": 197,
   "id": "c37ab4a8",
   "metadata": {},
   "outputs": [
    {
     "data": {
      "application/vnd.jupyter.widget-view+json": {
       "model_id": "04ac55f215e04a1dab3e023279098d9f",
       "version_major": 2,
       "version_minor": 0
      },
      "text/plain": [
       "  0%|          | 0/84432 [00:00<?, ?it/s]"
      ]
     },
     "metadata": {},
     "output_type": "display_data"
    }
   ],
   "source": [
    "k_value = 500\n",
    "model = implicit.nearest_neighbours.CosineRecommender(K=k_value)\n",
    "model.fit(train_sparse)"
   ]
  },
  {
   "cell_type": "code",
   "execution_count": 198,
   "id": "42d1bb5b",
   "metadata": {},
   "outputs": [],
   "source": [
    "def calculate_similarity(sparse_matrix, k=10):\n",
    "    \"\"\"\n",
    "    Calculate the cosine similarity between items up to k clossest neighbours.\n",
    "    \"\"\"\n",
    "    item_similarity = cosine_similarity(sparse_matrix.T)\n",
    "    np.fill_diagonal(item_similarity, 0)  # Ustawiamy przekątne na 0, aby nie uwzględniać podobieństwa do samego siebie\n",
    "\n",
    "    top_k_indices = np.argsort(-item_similarity, axis=1)[:, :k]  # Indeksy k najbliższych sąsiadów\n",
    "    top_k_values = np.take_along_axis(item_similarity, top_k_indices, axis=1)  # Wartości k najbliższych sąsiadów\n",
    "    item_similarity = np.zeros_like(item_similarity) # Nowa macierz podobieństwa wypełniona zerami\n",
    "    item_similarity[np.arange(item_similarity.shape[0])[:, None], top_k_indices] = top_k_values  # Wypełniamy macierz podobieństwa wartościami k najbliższych sąsiadów\n",
    "    return item_similarity\n",
    "\n",
    "#small_train_sparse = train_sparse[:10, :10]\n",
    "#item_similarity = calculate_similarity(small_train_sparse, k=10)\n",
    "#display(item_similarity[:5, :5])  # Wyświetlamy pierwsze 5 wierszy i kolumn macierzy podobieństwa"
   ]
  },
  {
   "cell_type": "markdown",
   "id": "b80be102",
   "metadata": {},
   "source": [
    "#### Rekomendacje dla konkretnego użytkownika"
   ]
  },
  {
   "cell_type": "code",
   "execution_count": 199,
   "id": "6a907531",
   "metadata": {},
   "outputs": [],
   "source": [
    "# Tworzenie mapowania filmów\n",
    "movies = pd.read_csv(\"../data/movies.csv\")"
   ]
  },
  {
   "cell_type": "markdown",
   "id": "59b37ecd",
   "metadata": {},
   "source": [
    "Przykład rekomendacji dla użytkownika o wskazanym id"
   ]
  },
  {
   "cell_type": "code",
   "execution_count": 200,
   "id": "0a6925b6",
   "metadata": {},
   "outputs": [
    {
     "name": "stdout",
     "output_type": "stream",
     "text": [
      "Filmy, które użytkownik polubił: [223, 1210, 1272, 1327, 1513, 1833, 2428, 2490, 2600, 2605, 2688, 2699, 2710, 2722, 2723, 2745, 2763, 2770, 2826, 2841, 3053, 3203]\n",
      "Współczynniki podobieństwa: [804.11540111 791.64667836]\n",
      "Identyfikatory polecanych filmów: [2683, 2716]\n"
     ]
    }
   ],
   "source": [
    "user_id = user_id__to_index[4]\n",
    "user_items = train_sparse.tocsr()\n",
    "print(\"Filmy, które użytkownik polubił:\", [index__toitem_id[ind] for ind in user_items[user_id].indices])\n",
    "\n",
    "recommendations = model.recommend(userid=user_id, user_items=user_items[user_id], N=2, filter_already_liked_items=True)\n",
    "print(\"Współczynniki podobieństwa:\", recommendations[1])\n",
    "print(\"Identyfikatory polecanych filmów:\", [index__toitem_id[ind] for ind in recommendations[0]])"
   ]
  },
  {
   "cell_type": "markdown",
   "id": "ea0617ec",
   "metadata": {},
   "source": [
    "Przykład rekomendacji podobnych filmów na podstawie filmu (top X najwyższych wartości z macierzy podobieństwa w wierszu danego filmu)"
   ]
  },
  {
   "cell_type": "code",
   "execution_count": 201,
   "id": "70d61340",
   "metadata": {},
   "outputs": [
    {
     "data": {
      "text/html": [
       "<div>\n",
       "<style scoped>\n",
       "    .dataframe tbody tr th:only-of-type {\n",
       "        vertical-align: middle;\n",
       "    }\n",
       "\n",
       "    .dataframe tbody tr th {\n",
       "        vertical-align: top;\n",
       "    }\n",
       "\n",
       "    .dataframe thead th {\n",
       "        text-align: right;\n",
       "    }\n",
       "</style>\n",
       "<table border=\"1\" class=\"dataframe\">\n",
       "  <thead>\n",
       "    <tr style=\"text-align: right;\">\n",
       "      <th></th>\n",
       "      <th>title</th>\n",
       "      <th>genres</th>\n",
       "      <th>score</th>\n",
       "    </tr>\n",
       "  </thead>\n",
       "  <tbody>\n",
       "    <tr>\n",
       "      <th>0</th>\n",
       "      <td>Toy Story (1995)</td>\n",
       "      <td>Adventure|Animation|Children|Comedy|Fantasy</td>\n",
       "      <td>1.000000</td>\n",
       "    </tr>\n",
       "    <tr>\n",
       "      <th>1</th>\n",
       "      <td>Independence Day (a.k.a. ID4) (1996)</td>\n",
       "      <td>Action|Adventure|Sci-Fi|Thriller</td>\n",
       "      <td>0.387610</td>\n",
       "    </tr>\n",
       "    <tr>\n",
       "      <th>2</th>\n",
       "      <td>Star Wars: Episode IV - A New Hope (1977)</td>\n",
       "      <td>Action|Adventure|Sci-Fi</td>\n",
       "      <td>0.385574</td>\n",
       "    </tr>\n",
       "    <tr>\n",
       "      <th>3</th>\n",
       "      <td>Forrest Gump (1994)</td>\n",
       "      <td>Comedy|Drama|Romance|War</td>\n",
       "      <td>0.365474</td>\n",
       "    </tr>\n",
       "    <tr>\n",
       "      <th>4</th>\n",
       "      <td>Toy Story 2 (1999)</td>\n",
       "      <td>Adventure|Animation|Children|Comedy|Fantasy</td>\n",
       "      <td>0.357359</td>\n",
       "    </tr>\n",
       "    <tr>\n",
       "      <th>5</th>\n",
       "      <td>Jurassic Park (1993)</td>\n",
       "      <td>Action|Adventure|Sci-Fi|Thriller</td>\n",
       "      <td>0.352937</td>\n",
       "    </tr>\n",
       "    <tr>\n",
       "      <th>6</th>\n",
       "      <td>Star Wars: Episode VI - Return of the Jedi (1983)</td>\n",
       "      <td>Action|Adventure|Sci-Fi</td>\n",
       "      <td>0.352243</td>\n",
       "    </tr>\n",
       "    <tr>\n",
       "      <th>7</th>\n",
       "      <td>Mission: Impossible (1996)</td>\n",
       "      <td>Action|Adventure|Mystery|Thriller</td>\n",
       "      <td>0.348876</td>\n",
       "    </tr>\n",
       "    <tr>\n",
       "      <th>8</th>\n",
       "      <td>Back to the Future (1985)</td>\n",
       "      <td>Adventure|Comedy|Sci-Fi</td>\n",
       "      <td>0.346082</td>\n",
       "    </tr>\n",
       "    <tr>\n",
       "      <th>9</th>\n",
       "      <td>Willy Wonka &amp; the Chocolate Factory (1971)</td>\n",
       "      <td>Children|Comedy|Fantasy|Musical</td>\n",
       "      <td>0.344895</td>\n",
       "    </tr>\n",
       "  </tbody>\n",
       "</table>\n",
       "</div>"
      ],
      "text/plain": [
       "                                               title  \\\n",
       "0                                   Toy Story (1995)   \n",
       "1               Independence Day (a.k.a. ID4) (1996)   \n",
       "2          Star Wars: Episode IV - A New Hope (1977)   \n",
       "3                                Forrest Gump (1994)   \n",
       "4                                 Toy Story 2 (1999)   \n",
       "5                               Jurassic Park (1993)   \n",
       "6  Star Wars: Episode VI - Return of the Jedi (1983)   \n",
       "7                         Mission: Impossible (1996)   \n",
       "8                          Back to the Future (1985)   \n",
       "9         Willy Wonka & the Chocolate Factory (1971)   \n",
       "\n",
       "                                        genres     score  \n",
       "0  Adventure|Animation|Children|Comedy|Fantasy  1.000000  \n",
       "1             Action|Adventure|Sci-Fi|Thriller  0.387610  \n",
       "2                      Action|Adventure|Sci-Fi  0.385574  \n",
       "3                     Comedy|Drama|Romance|War  0.365474  \n",
       "4  Adventure|Animation|Children|Comedy|Fantasy  0.357359  \n",
       "5             Action|Adventure|Sci-Fi|Thriller  0.352937  \n",
       "6                      Action|Adventure|Sci-Fi  0.352243  \n",
       "7            Action|Adventure|Mystery|Thriller  0.348876  \n",
       "8                      Adventure|Comedy|Sci-Fi  0.346082  \n",
       "9              Children|Comedy|Fantasy|Musical  0.344895  "
      ]
     },
     "execution_count": 201,
     "metadata": {},
     "output_type": "execute_result"
    }
   ],
   "source": [
    "ids, scores = model.similar_items(item_id__to_index[1], N=10)\n",
    "pd.DataFrame({'movieId': [index__toitem_id[i] for i in ids], 'score': scores}).merge(movies, on='movieId')[['title', 'genres', 'score']].sort_values('score', ascending=False)\n",
    "\n",
    "# Funkcja ta wykonuje poniższy kod, ale jest jedno-linijkowa, dlatego lepiej ją wykorzystać\n",
    "\n",
    "#sim = model.similarity\n",
    "#sim_row = sim[item_id__to_index[1]]\n",
    "#sim_row = sim_row.toarray().flatten()\n",
    "#top_sim_indices = np.argsort(sim_row)[-10:][::-1] # Wybranie 20 najwyższych podobieństw\n",
    "#recommended_ids = [index__toitem_id[idx] for idx in top_sim_indices] #Id tych filmów\n",
    "#pd.DataFrame({'movieId': recommended_ids, 'score': sim_row[top_sim_indices]}).merge(movies, on='movieId')[['title', 'genres', 'score']]"
   ]
  },
  {
   "cell_type": "markdown",
   "id": "b416b6bd",
   "metadata": {},
   "source": [
    "Funkcja do obliczenia podstawowych metryk stworzonego modelu"
   ]
  },
  {
   "cell_type": "code",
   "execution_count": 202,
   "id": "210f71ba",
   "metadata": {},
   "outputs": [],
   "source": [
    "def ranking_metrics_at_k(model, train_user_items, test_user_items, K=10, show_progress=True):\n",
    "    \"\"\"\n",
    "    Calculates ranking metrics (Precision@K, MAP@K, NDCG@K, AUC) for a trained model.\n",
    "\n",
    "    Parameters:\n",
    "        model : Trained ALS model (or other Implicit model).\n",
    "        train_user_items : csr_matrix\n",
    "            User-item interaction matrix used for training.\n",
    "        test_user_items : csr_matrix\n",
    "            User-item interaction matrix for evaluation.\n",
    "        K : int\n",
    "            Number of items to evaluate.\n",
    "        show_progress : bool\n",
    "            Show a progress bar during evaluation.\n",
    "\n",
    "    Returns:\n",
    "        dict : Dictionary with precision, MAP, NDCG, and AUC scores.\n",
    "    \"\"\"\n",
    "\n",
    "    # Ensure matrices are in CSR format\n",
    "    train_user_items = train_user_items.tocsr()\n",
    "    test_user_items = test_user_items.tocsr()\n",
    "\n",
    "    num_users, num_items = test_user_items.shape\n",
    "    relevant = 0\n",
    "    total_precision_div = 0\n",
    "    total_map = 0\n",
    "    total_ndcg = 0\n",
    "    total_auc = 0\n",
    "    total_users = 0\n",
    "\n",
    "    # Compute cumulative gain for NDCG normalization\n",
    "    cg = 1.0 / np.log2(np.arange(2, K + 2))  # Discount factor\n",
    "    cg_sum = np.cumsum(cg)  # Ideal DCG normalization\n",
    "\n",
    "    # Get users with at least one item in the test set\n",
    "    users_with_test_data = np.where(np.diff(test_user_items.indptr) > 0)[0]\n",
    "\n",
    "    # Progress bar\n",
    "    progress = tqdm.tqdm(total=len(users_with_test_data), disable=not show_progress)\n",
    "\n",
    "    batch_size = 1000\n",
    "    start_idx = 0\n",
    "\n",
    "    while start_idx < len(users_with_test_data):\n",
    "        batch_users = users_with_test_data[start_idx:start_idx + batch_size]\n",
    "        recommended_items, _ = model.recommend(batch_users, train_user_items[batch_users], N=K)\n",
    "        start_idx += batch_size\n",
    "\n",
    "        for user_idx, user_id in enumerate(batch_users):\n",
    "            test_items = set(test_user_items.indices[test_user_items.indptr[user_id]:test_user_items.indptr[user_id + 1]])\n",
    "            \n",
    "            if not test_items:\n",
    "                continue  # Skip users without test data\n",
    "\n",
    "            num_relevant = len(test_items)\n",
    "            total_precision_div += min(K, num_relevant)\n",
    "\n",
    "            ap = 0\n",
    "            hit_count = 0\n",
    "            auc = 0\n",
    "            idcg = cg_sum[min(K, num_relevant) - 1]  # Ideal Discounted Cumulative Gain (IDCG)\n",
    "            num_negative = num_items - num_relevant\n",
    "\n",
    "            for rank, item in enumerate(recommended_items[user_idx]):\n",
    "                if item in test_items:\n",
    "                    relevant += 1\n",
    "                    hit_count += 1\n",
    "                    ap += hit_count / (rank + 1)\n",
    "                    total_ndcg += cg[rank] / idcg\n",
    "                else:\n",
    "                    auc += hit_count  # Accumulate hits for AUC calculation\n",
    "\n",
    "            auc += ((hit_count + num_relevant) / 2.0) * (num_negative - (K - hit_count))\n",
    "            total_map += ap / min(K, num_relevant)\n",
    "            total_auc += auc / (num_relevant * num_negative)\n",
    "            total_users += 1\n",
    "        \n",
    "        progress.update(len(batch_users))\n",
    "\n",
    "    progress.close()\n",
    "\n",
    "    # Compute final metrics\n",
    "    precision = relevant / total_precision_div if total_precision_div > 0 else 0\n",
    "    mean_ap = total_map / total_users if total_users > 0 else 0\n",
    "    mean_ndcg = total_ndcg / total_users if total_users > 0 else 0\n",
    "    mean_auc = total_auc / total_users if total_users > 0 else 0\n",
    "\n",
    "    return {\n",
    "        \"precision\": precision,\n",
    "        \"map\": mean_ap,\n",
    "        \"ndcg\": mean_ndcg,\n",
    "        \"auc\": mean_auc\n",
    "    }\n"
   ]
  },
  {
   "cell_type": "markdown",
   "id": "a5b460ce",
   "metadata": {},
   "source": [
    "Obliczenie metryk modelu"
   ]
  },
  {
   "cell_type": "code",
   "execution_count": 204,
   "id": "f44ee01a",
   "metadata": {},
   "outputs": [
    {
     "name": "stderr",
     "output_type": "stream",
     "text": [
      "100%|██████████| 200948/200948 [00:43<00:00, 4615.84it/s]\n"
     ]
    }
   ],
   "source": [
    "test_k = 10\n",
    "test_sparse = create_sparse_matrix(test)\n",
    "results = ranking_metrics_at_k(model, train_sparse, test_sparse, K=test_k, show_progress=True)"
   ]
  },
  {
   "cell_type": "code",
   "execution_count": 205,
   "id": "c203c1ec",
   "metadata": {},
   "outputs": [
    {
     "name": "stdout",
     "output_type": "stream",
     "text": [
      "Precision@10: 0.12231150851740738\n",
      "MAP@10: 0.07284920388246789\n",
      "NDCG@10: 0.12907832177558154\n",
      "AUC@10: 0.5401255201625642\n"
     ]
    }
   ],
   "source": [
    "print(f\"Precision@{test_k}:\", results[\"precision\"])\n",
    "print(f\"MAP@{test_k}:\", results[\"map\"])\n",
    "print(f\"NDCG@{test_k}:\", results[\"ndcg\"])\n",
    "print(f\"AUC@{test_k}:\", results[\"auc\"])"
   ]
  },
  {
   "cell_type": "markdown",
   "id": "46417bc7",
   "metadata": {},
   "source": [
    "#### Przykładowa rekomendacja dla nowego użytkownika nie będącego w systemie"
   ]
  },
  {
   "cell_type": "code",
   "execution_count": 206,
   "id": "654f4b32",
   "metadata": {},
   "outputs": [
    {
     "data": {
      "text/html": [
       "<div>\n",
       "<style scoped>\n",
       "    .dataframe tbody tr th:only-of-type {\n",
       "        vertical-align: middle;\n",
       "    }\n",
       "\n",
       "    .dataframe tbody tr th {\n",
       "        vertical-align: top;\n",
       "    }\n",
       "\n",
       "    .dataframe thead th {\n",
       "        text-align: right;\n",
       "    }\n",
       "</style>\n",
       "<table border=\"1\" class=\"dataframe\">\n",
       "  <thead>\n",
       "    <tr style=\"text-align: right;\">\n",
       "      <th></th>\n",
       "      <th>title</th>\n",
       "      <th>genres</th>\n",
       "    </tr>\n",
       "  </thead>\n",
       "  <tbody>\n",
       "    <tr>\n",
       "      <th>0</th>\n",
       "      <td>Hobbit: An Unexpected Journey, The (2012)</td>\n",
       "      <td>Adventure|Fantasy|IMAX</td>\n",
       "    </tr>\n",
       "    <tr>\n",
       "      <th>1</th>\n",
       "      <td>Hobbit: The Desolation of Smaug, The (2013)</td>\n",
       "      <td>Adventure|Fantasy|IMAX</td>\n",
       "    </tr>\n",
       "    <tr>\n",
       "      <th>2</th>\n",
       "      <td>Avengers, The (2012)</td>\n",
       "      <td>Action|Adventure|Sci-Fi|IMAX</td>\n",
       "    </tr>\n",
       "    <tr>\n",
       "      <th>3</th>\n",
       "      <td>Inception (2010)</td>\n",
       "      <td>Action|Crime|Drama|Mystery|Sci-Fi|Thriller|IMAX</td>\n",
       "    </tr>\n",
       "    <tr>\n",
       "      <th>4</th>\n",
       "      <td>Django Unchained (2012)</td>\n",
       "      <td>Action|Drama|Western</td>\n",
       "    </tr>\n",
       "    <tr>\n",
       "      <th>5</th>\n",
       "      <td>Lord of the Rings, The (1978)</td>\n",
       "      <td>Adventure|Animation|Children|Fantasy</td>\n",
       "    </tr>\n",
       "    <tr>\n",
       "      <th>6</th>\n",
       "      <td>Lord of the Rings: The Fellowship of the Ring,...</td>\n",
       "      <td>Adventure|Fantasy</td>\n",
       "    </tr>\n",
       "    <tr>\n",
       "      <th>7</th>\n",
       "      <td>Lord of the Rings: The Two Towers, The (2002)</td>\n",
       "      <td>Adventure|Fantasy</td>\n",
       "    </tr>\n",
       "  </tbody>\n",
       "</table>\n",
       "</div>"
      ],
      "text/plain": [
       "                                               title  \\\n",
       "0          Hobbit: An Unexpected Journey, The (2012)   \n",
       "1        Hobbit: The Desolation of Smaug, The (2013)   \n",
       "2                               Avengers, The (2012)   \n",
       "3                                   Inception (2010)   \n",
       "4                            Django Unchained (2012)   \n",
       "5                      Lord of the Rings, The (1978)   \n",
       "6  Lord of the Rings: The Fellowship of the Ring,...   \n",
       "7      Lord of the Rings: The Two Towers, The (2002)   \n",
       "\n",
       "                                            genres  \n",
       "0                           Adventure|Fantasy|IMAX  \n",
       "1                           Adventure|Fantasy|IMAX  \n",
       "2                     Action|Adventure|Sci-Fi|IMAX  \n",
       "3  Action|Crime|Drama|Mystery|Sci-Fi|Thriller|IMAX  \n",
       "4                             Action|Drama|Western  \n",
       "5             Adventure|Animation|Children|Fantasy  \n",
       "6                                Adventure|Fantasy  \n",
       "7                                Adventure|Fantasy  "
      ]
     },
     "execution_count": 206,
     "metadata": {},
     "output_type": "execute_result"
    }
   ],
   "source": [
    "new_user_ratings = {\n",
    "    98809: 5.0,\n",
    "    106489: 5.0,\n",
    "    89745: 5.0,\n",
    "    79132: 5.0,\n",
    "    99114: 5.0,\n",
    "    2116: 5.0,\n",
    "    4993: 5.0,\n",
    "    5952: 5.0,\n",
    "}\n",
    "pd.DataFrame({'movieId': new_user_ratings.keys()}).merge(movies, on='movieId')[['title', 'genres']]"
   ]
  },
  {
   "cell_type": "markdown",
   "id": "9b2d2c79",
   "metadata": {},
   "source": [
    "Wzięcie pod uwagę tylko tych filmów, na których był wytrenowany model"
   ]
  },
  {
   "cell_type": "code",
   "execution_count": 207,
   "id": "f0b23ffd",
   "metadata": {},
   "outputs": [],
   "source": [
    "valid_movies_ids = { movie_id: rating \n",
    "    for movie_id, rating in new_user_ratings.items()\n",
    "    if movie_id in item_id__to_index\n",
    "    }"
   ]
  },
  {
   "cell_type": "markdown",
   "id": "6dc77721",
   "metadata": {},
   "source": [
    "Stworzenie wektora preferencji uzytkownika"
   ]
  },
  {
   "cell_type": "code",
   "execution_count": 208,
   "id": "84b3356e",
   "metadata": {},
   "outputs": [],
   "source": [
    "n_movies = len(item_id__to_index)\n",
    "new_user_verctor = np.zeros(n_movies)\n",
    "\n",
    "for movie_id, rating in valid_movies_ids.items():\n",
    "    new_user_verctor[item_id__to_index[movie_id]] = rating\n",
    "\n",
    "new_user_verctor_sparse = csr_matrix(new_user_verctor).T"
   ]
  },
  {
   "cell_type": "markdown",
   "id": "0c68b434",
   "metadata": {},
   "source": [
    "Obliczenie dwudziestu rekomendacji na podstawie macierzy podobieństwa modelu"
   ]
  },
  {
   "cell_type": "code",
   "execution_count": 209,
   "id": "d614ccee",
   "metadata": {},
   "outputs": [
    {
     "data": {
      "text/html": [
       "<div>\n",
       "<style scoped>\n",
       "    .dataframe tbody tr th:only-of-type {\n",
       "        vertical-align: middle;\n",
       "    }\n",
       "\n",
       "    .dataframe tbody tr th {\n",
       "        vertical-align: top;\n",
       "    }\n",
       "\n",
       "    .dataframe thead th {\n",
       "        text-align: right;\n",
       "    }\n",
       "</style>\n",
       "<table border=\"1\" class=\"dataframe\">\n",
       "  <thead>\n",
       "    <tr style=\"text-align: right;\">\n",
       "      <th></th>\n",
       "      <th>title</th>\n",
       "      <th>genres</th>\n",
       "      <th>score</th>\n",
       "    </tr>\n",
       "  </thead>\n",
       "  <tbody>\n",
       "    <tr>\n",
       "      <th>0</th>\n",
       "      <td>Lord of the Rings: The Return of the King, The...</td>\n",
       "      <td>Action|Adventure|Drama|Fantasy</td>\n",
       "      <td>14.696779</td>\n",
       "    </tr>\n",
       "    <tr>\n",
       "      <th>1</th>\n",
       "      <td>Dark Knight, The (2008)</td>\n",
       "      <td>Action|Crime|Drama|IMAX</td>\n",
       "      <td>12.965315</td>\n",
       "    </tr>\n",
       "    <tr>\n",
       "      <th>2</th>\n",
       "      <td>Dark Knight Rises, The (2012)</td>\n",
       "      <td>Action|Adventure|Crime|IMAX</td>\n",
       "      <td>12.309172</td>\n",
       "    </tr>\n",
       "    <tr>\n",
       "      <th>3</th>\n",
       "      <td>Matrix, The (1999)</td>\n",
       "      <td>Action|Sci-Fi|Thriller</td>\n",
       "      <td>12.102487</td>\n",
       "    </tr>\n",
       "    <tr>\n",
       "      <th>4</th>\n",
       "      <td>Interstellar (2014)</td>\n",
       "      <td>Sci-Fi|IMAX</td>\n",
       "      <td>11.841249</td>\n",
       "    </tr>\n",
       "    <tr>\n",
       "      <th>5</th>\n",
       "      <td>Guardians of the Galaxy (2014)</td>\n",
       "      <td>Action|Adventure|Sci-Fi</td>\n",
       "      <td>11.579821</td>\n",
       "    </tr>\n",
       "    <tr>\n",
       "      <th>6</th>\n",
       "      <td>Iron Man (2008)</td>\n",
       "      <td>Action|Adventure|Sci-Fi</td>\n",
       "      <td>11.493211</td>\n",
       "    </tr>\n",
       "    <tr>\n",
       "      <th>7</th>\n",
       "      <td>Avatar (2009)</td>\n",
       "      <td>Action|Adventure|Sci-Fi|IMAX</td>\n",
       "      <td>11.205039</td>\n",
       "    </tr>\n",
       "    <tr>\n",
       "      <th>8</th>\n",
       "      <td>Batman Begins (2005)</td>\n",
       "      <td>Action|Crime|IMAX</td>\n",
       "      <td>11.072531</td>\n",
       "    </tr>\n",
       "    <tr>\n",
       "      <th>9</th>\n",
       "      <td>Fight Club (1999)</td>\n",
       "      <td>Action|Crime|Drama|Thriller</td>\n",
       "      <td>11.038804</td>\n",
       "    </tr>\n",
       "    <tr>\n",
       "      <th>10</th>\n",
       "      <td>Pirates of the Caribbean: The Curse of the Bla...</td>\n",
       "      <td>Action|Adventure|Comedy|Fantasy</td>\n",
       "      <td>11.017437</td>\n",
       "    </tr>\n",
       "    <tr>\n",
       "      <th>11</th>\n",
       "      <td>Inglourious Basterds (2009)</td>\n",
       "      <td>Action|Drama|War</td>\n",
       "      <td>10.872045</td>\n",
       "    </tr>\n",
       "    <tr>\n",
       "      <th>12</th>\n",
       "      <td>WALL·E (2008)</td>\n",
       "      <td>Adventure|Animation|Children|Romance|Sci-Fi</td>\n",
       "      <td>10.866594</td>\n",
       "    </tr>\n",
       "    <tr>\n",
       "      <th>13</th>\n",
       "      <td>Up (2009)</td>\n",
       "      <td>Adventure|Animation|Children|Drama</td>\n",
       "      <td>10.678277</td>\n",
       "    </tr>\n",
       "    <tr>\n",
       "      <th>14</th>\n",
       "      <td>The Martian (2015)</td>\n",
       "      <td>Adventure|Drama|Sci-Fi</td>\n",
       "      <td>10.300726</td>\n",
       "    </tr>\n",
       "    <tr>\n",
       "      <th>15</th>\n",
       "      <td>Harry Potter and the Deathly Hallows: Part 1 (...</td>\n",
       "      <td>Action|Adventure|Fantasy|IMAX</td>\n",
       "      <td>10.208667</td>\n",
       "    </tr>\n",
       "    <tr>\n",
       "      <th>16</th>\n",
       "      <td>Harry Potter and the Deathly Hallows: Part 2 (...</td>\n",
       "      <td>Action|Adventure|Drama|Fantasy|Mystery|IMAX</td>\n",
       "      <td>10.186932</td>\n",
       "    </tr>\n",
       "    <tr>\n",
       "      <th>17</th>\n",
       "      <td>Shutter Island (2010)</td>\n",
       "      <td>Drama|Mystery|Thriller</td>\n",
       "      <td>10.154580</td>\n",
       "    </tr>\n",
       "    <tr>\n",
       "      <th>18</th>\n",
       "      <td>Gladiator (2000)</td>\n",
       "      <td>Action|Adventure|Drama</td>\n",
       "      <td>10.099857</td>\n",
       "    </tr>\n",
       "    <tr>\n",
       "      <th>19</th>\n",
       "      <td>Wolf of Wall Street, The (2013)</td>\n",
       "      <td>Comedy|Crime|Drama</td>\n",
       "      <td>9.988026</td>\n",
       "    </tr>\n",
       "  </tbody>\n",
       "</table>\n",
       "</div>"
      ],
      "text/plain": [
       "                                                title  \\\n",
       "0   Lord of the Rings: The Return of the King, The...   \n",
       "1                             Dark Knight, The (2008)   \n",
       "2                       Dark Knight Rises, The (2012)   \n",
       "3                                  Matrix, The (1999)   \n",
       "4                                 Interstellar (2014)   \n",
       "5                      Guardians of the Galaxy (2014)   \n",
       "6                                     Iron Man (2008)   \n",
       "7                                       Avatar (2009)   \n",
       "8                                Batman Begins (2005)   \n",
       "9                                   Fight Club (1999)   \n",
       "10  Pirates of the Caribbean: The Curse of the Bla...   \n",
       "11                        Inglourious Basterds (2009)   \n",
       "12                                      WALL·E (2008)   \n",
       "13                                          Up (2009)   \n",
       "14                                 The Martian (2015)   \n",
       "15  Harry Potter and the Deathly Hallows: Part 1 (...   \n",
       "16  Harry Potter and the Deathly Hallows: Part 2 (...   \n",
       "17                              Shutter Island (2010)   \n",
       "18                                   Gladiator (2000)   \n",
       "19                    Wolf of Wall Street, The (2013)   \n",
       "\n",
       "                                         genres      score  \n",
       "0                Action|Adventure|Drama|Fantasy  14.696779  \n",
       "1                       Action|Crime|Drama|IMAX  12.965315  \n",
       "2                   Action|Adventure|Crime|IMAX  12.309172  \n",
       "3                        Action|Sci-Fi|Thriller  12.102487  \n",
       "4                                   Sci-Fi|IMAX  11.841249  \n",
       "5                       Action|Adventure|Sci-Fi  11.579821  \n",
       "6                       Action|Adventure|Sci-Fi  11.493211  \n",
       "7                  Action|Adventure|Sci-Fi|IMAX  11.205039  \n",
       "8                             Action|Crime|IMAX  11.072531  \n",
       "9                   Action|Crime|Drama|Thriller  11.038804  \n",
       "10              Action|Adventure|Comedy|Fantasy  11.017437  \n",
       "11                             Action|Drama|War  10.872045  \n",
       "12  Adventure|Animation|Children|Romance|Sci-Fi  10.866594  \n",
       "13           Adventure|Animation|Children|Drama  10.678277  \n",
       "14                       Adventure|Drama|Sci-Fi  10.300726  \n",
       "15                Action|Adventure|Fantasy|IMAX  10.208667  \n",
       "16  Action|Adventure|Drama|Fantasy|Mystery|IMAX  10.186932  \n",
       "17                       Drama|Mystery|Thriller  10.154580  \n",
       "18                       Action|Adventure|Drama  10.099857  \n",
       "19                           Comedy|Crime|Drama   9.988026  "
      ]
     },
     "execution_count": 209,
     "metadata": {},
     "output_type": "execute_result"
    }
   ],
   "source": [
    "similarity_matrix = model.similarity\n",
    "\n",
    "predicted_ratings = similarity_matrix.dot(new_user_verctor_sparse)\n",
    "\n",
    "predicted_ratings[new_user_verctor_sparse.nonzero()] = 0  # Ustawiamy oceny dla już ocenionych filmów na 0\n",
    "\n",
    "predicted_array = predicted_ratings.toarray().flatten()\n",
    "top_indices = np.argsort(predicted_array)[-20:][::-1] # Wybranie 20 najwyższych ocen\n",
    "recommended_ids = [index__toitem_id[idx] for idx in top_indices] #Id tych filmów\n",
    "\n",
    "pd.DataFrame({'movieId': recommended_ids, 'score': predicted_array[top_indices]}).merge(movies, on='movieId')[['title', 'genres', 'score']]"
   ]
  }
 ],
 "metadata": {
  "kernelspec": {
   "display_name": "base",
   "language": "python",
   "name": "python3"
  },
  "language_info": {
   "codemirror_mode": {
    "name": "ipython",
    "version": 3
   },
   "file_extension": ".py",
   "mimetype": "text/x-python",
   "name": "python",
   "nbconvert_exporter": "python",
   "pygments_lexer": "ipython3",
   "version": "3.12.3"
  }
 },
 "nbformat": 4,
 "nbformat_minor": 5
}
