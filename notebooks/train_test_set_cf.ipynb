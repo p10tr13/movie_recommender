{
 "cells": [
  {
   "cell_type": "markdown",
   "id": "12f74365",
   "metadata": {},
   "source": [
    "### Notebook poświęcony podziale danych na training set i test set dla metody collaborative filtering"
   ]
  },
  {
   "cell_type": "markdown",
   "id": "35c8ca34",
   "metadata": {},
   "source": [
    "#### Przygotowania"
   ]
  },
  {
   "cell_type": "markdown",
   "id": "f4f9ab2f",
   "metadata": {},
   "source": [
    "Import wymaganych bibliotek"
   ]
  },
  {
   "cell_type": "code",
   "execution_count": 31,
   "id": "b54773c4",
   "metadata": {},
   "outputs": [],
   "source": [
    "import pandas as pd\n",
    "import numpy as np\n",
    "from sklearn.model_selection import train_test_split"
   ]
  },
  {
   "cell_type": "markdown",
   "id": "f6569a05",
   "metadata": {},
   "source": [
    "Wczytywanie danych"
   ]
  },
  {
   "cell_type": "code",
   "execution_count": 32,
   "id": "c94933c2",
   "metadata": {},
   "outputs": [
    {
     "name": "stdout",
     "output_type": "stream",
     "text": [
      "Ilość ocen w zbiorze:  32000204\n",
      "Przykładowe oceny:\n",
      "   userId  movieId  rating  timestamp\n",
      "0       1       17     4.0  944249077\n",
      "1       1       25     1.0  944250228\n"
     ]
    }
   ],
   "source": [
    "ratings = pd.read_csv('../data/ratings.csv')\n",
    "print(\"Ilość ocen w zbiorze: \", ratings.shape[0])\n",
    "print(\"Przykładowe oceny:\")\n",
    "print(ratings.head(2))"
   ]
  },
  {
   "cell_type": "markdown",
   "id": "db4dcb3a",
   "metadata": {},
   "source": [
    "#### Podział danych"
   ]
  },
  {
   "cell_type": "markdown",
   "id": "ab3ea8b8",
   "metadata": {},
   "source": [
    "Dane są dzielone zgodnie z następującymi zasadami:\n",
    "- 20% danych jest przydzielanych do zbioru testowego\n",
    "- 80% danych jest przydzielanych do zbioru treningowego\n",
    "- podział ten jest wykonywany na ocenach każdego użytkownika (stratyfikacja po użytkownikach gwarantuje, że każdy użytkownik ma reprezentację w obu zbiorach)"
   ]
  },
  {
   "cell_type": "code",
   "execution_count": 33,
   "id": "cd3a7cf9",
   "metadata": {},
   "outputs": [],
   "source": [
    "train_data, test_data = train_test_split(\n",
    "    ratings,\n",
    "    test_size=0.2,\n",
    "    stratify=ratings[\"userId\"],\n",
    "    random_state=264,\n",
    ")"
   ]
  },
  {
   "cell_type": "markdown",
   "id": "ccbbb0b6",
   "metadata": {},
   "source": [
    "Tak jak widać w powyższym kodzie ustawione jest ziarno na pewną stałą wartość, aby podział danych zawsze przebiegał w ten sam sposób.\n",
    "<br> Poniżej zostaną sprawdzone założenie podziału danych."
   ]
  },
  {
   "cell_type": "code",
   "execution_count": 34,
   "id": "d9aac2a0",
   "metadata": {},
   "outputs": [
    {
     "name": "stdout",
     "output_type": "stream",
     "text": [
      "\n",
      "Train: 25600163 | Test: 6400041\n",
      "Odsetek użytkowników w zbiorze testowym: 100.0%\n"
     ]
    }
   ],
   "source": [
    "print(f\"\\nTrain: {len(train_data)} | Test: {len(test_data)}\")\n",
    "print(f\"Odsetek użytkowników w zbiorze testowym: {test_data['userId'].nunique()/ratings['userId'].nunique():.1%}\")"
   ]
  },
  {
   "cell_type": "markdown",
   "id": "29077cc6",
   "metadata": {},
   "source": [
    "Collaborative filtering nie będzie w stanie poprawnie wykonać predykcji dla filmów, na których nie został wytrenowany, dlatego w naszym zbiorze testowym należy wybrac tylko te filmy, które są w zbiorze treningowym."
   ]
  },
  {
   "cell_type": "code",
   "execution_count": 35,
   "id": "19a5208c",
   "metadata": {},
   "outputs": [],
   "source": [
    "train_movies = set(train_data[\"movieId\"].unique())\n",
    "test_data_clean = test_data[test_data[\"movieId\"].isin(train_movies)]"
   ]
  },
  {
   "cell_type": "markdown",
   "id": "b83be496",
   "metadata": {},
   "source": [
    "Następnie te usunięte filmy ze zbioru testowego przeniesione zostaną do zbioru treningowego."
   ]
  },
  {
   "cell_type": "code",
   "execution_count": 36,
   "id": "56a913d7",
   "metadata": {},
   "outputs": [],
   "source": [
    "missing_in_test = test_data[~test_data[\"movieId\"].isin(train_movies)]\n",
    "final_train = pd.concat([train_data, missing_in_test])"
   ]
  },
  {
   "cell_type": "markdown",
   "id": "aab76ca0",
   "metadata": {},
   "source": [
    "Poniżej znajdują się wyniki zmian w zbiorach."
   ]
  },
  {
   "cell_type": "code",
   "execution_count": 37,
   "id": "59214e9c",
   "metadata": {},
   "outputs": [
    {
     "name": "stdout",
     "output_type": "stream",
     "text": [
      "\n",
      "Po korekcie:\n",
      "Final Train: 25604902\n",
      "Test Clean: 6395302\n",
      "Usuniętych z testu: 4739\n",
      "Odsetek usiuniętych: 0.074%\n"
     ]
    }
   ],
   "source": [
    "print(f\"\\nPo korekcie:\")\n",
    "print(f\"Final Train: {len(final_train)}\")\n",
    "print(f\"Test Clean: {len(test_data_clean)}\")\n",
    "print(f\"Usuniętych z testu: {len(test_data)-len(test_data_clean)}\")\n",
    "print(f\"Odsetek usiuniętych: {(len(test_data)-len(test_data_clean))/len(test_data):.3%}\")"
   ]
  },
  {
   "cell_type": "markdown",
   "id": "fe87ff03",
   "metadata": {},
   "source": [
    "Następnie zostanie zweryfikowany nasz podział."
   ]
  },
  {
   "cell_type": "markdown",
   "id": "00d40fd7",
   "metadata": {},
   "source": [
    "1. Czy wszystkie filmy będące w zbiorze testowym są również w zbiorze treningowym?"
   ]
  },
  {
   "cell_type": "code",
   "execution_count": 38,
   "id": "9d1d70f3",
   "metadata": {},
   "outputs": [],
   "source": [
    "assert test_data_clean[\"movieId\"].nunique() == test_data_clean[\"movieId\"].nunique(), \"Niepoprawna liczba filmów w zbiorze testowym\""
   ]
  },
  {
   "cell_type": "markdown",
   "id": "f901eaa3",
   "metadata": {},
   "source": [
    "2. Czy wszyscy użytkownicy są obecni w obu zbiorach?"
   ]
  },
  {
   "cell_type": "code",
   "execution_count": 39,
   "id": "b6f8c42c",
   "metadata": {},
   "outputs": [
    {
     "name": "stdout",
     "output_type": "stream",
     "text": [
      "\n",
      "Użytkownicy w zbiorze treningowym: 200948\n",
      "Użytkownicy w zbiorze testowym:    200948\n"
     ]
    }
   ],
   "source": [
    "print(f\"\\nUżytkownicy w zbiorze treningowym: {final_train['userId'].nunique()}\")\n",
    "print(f\"Użytkownicy w zbiorze testowym:    {test_data_clean['userId'].nunique()}\")"
   ]
  },
  {
   "cell_type": "markdown",
   "id": "7a63e71c",
   "metadata": {},
   "source": [
    "3. Czy oceny pojedyńczym użytkowniku podzieliły się w stosunku $1/5$?"
   ]
  },
  {
   "cell_type": "code",
   "execution_count": 40,
   "id": "7f16e036",
   "metadata": {},
   "outputs": [
    {
     "name": "stdout",
     "output_type": "stream",
     "text": [
      "\n",
      "Pierwszy przykładowy użytkownik: 1\n",
      "Trening: 113 ocen\n",
      "Test:    28 ocen\n",
      "\n",
      "Drugi przykładowy użytkownik: 10\n",
      "Trening: 528 ocen\n",
      "Test:    132 ocen\n"
     ]
    }
   ],
   "source": [
    "sample_user1 = ratings['userId'].iloc[0]\n",
    "sample_user2 = ratings['userId'].iloc[1000]\n",
    "print(f\"\\nPierwszy przykładowy użytkownik: {sample_user1}\")\n",
    "print(f\"Trening: {len(final_train[final_train['userId'] == sample_user1])} ocen\")\n",
    "print(f\"Test:    {len(test_data_clean[test_data_clean['userId'] == sample_user1])} ocen\")\n",
    "print(f\"\\nDrugi przykładowy użytkownik: {sample_user2}\")\n",
    "print(f\"Trening: {len(final_train[final_train['userId'] == sample_user2])} ocen\")\n",
    "print(f\"Test:    {len(test_data_clean[test_data_clean['userId'] == sample_user2])} ocen\")"
   ]
  },
  {
   "cell_type": "markdown",
   "id": "e898df17",
   "metadata": {},
   "source": [
    "4. Rzadkość macierzy w zbiorach"
   ]
  },
  {
   "cell_type": "code",
   "execution_count": 41,
   "id": "b5569da5",
   "metadata": {},
   "outputs": [
    {
     "name": "stdout",
     "output_type": "stream",
     "text": [
      "\n",
      "Sparsity Trening: 99.85%\n",
      "Sparsity Test: 99.94%\n"
     ]
    }
   ],
   "source": [
    "print(f\"\\nSparsity Trening: {(1 - len(final_train)/(final_train['userId'].nunique() * final_train['movieId'].nunique())):.2%}\")\n",
    "print(f\"Sparsity Test: {(1 - len(test_data_clean)/(test_data_clean['userId'].nunique() * test_data_clean['movieId'].nunique())):.2%}\")"
   ]
  },
  {
   "cell_type": "markdown",
   "id": "e3b7a7e7",
   "metadata": {},
   "source": [
    "Zapis danych"
   ]
  },
  {
   "cell_type": "code",
   "execution_count": 42,
   "id": "ffa3e332",
   "metadata": {},
   "outputs": [],
   "source": [
    "final_train.to_csv('../data/cf/train_rating.csv', index=False)\n",
    "test_data_clean.to_csv('../data/cf/test_rating.csv', index=False)"
   ]
  }
 ],
 "metadata": {
  "kernelspec": {
   "display_name": ".venv",
   "language": "python",
   "name": "python3"
  },
  "language_info": {
   "codemirror_mode": {
    "name": "ipython",
    "version": 3
   },
   "file_extension": ".py",
   "mimetype": "text/x-python",
   "name": "python",
   "nbconvert_exporter": "python",
   "pygments_lexer": "ipython3",
   "version": "3.12.3"
  }
 },
 "nbformat": 4,
 "nbformat_minor": 5
}
